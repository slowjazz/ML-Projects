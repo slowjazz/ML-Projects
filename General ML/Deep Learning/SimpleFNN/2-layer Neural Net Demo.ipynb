{
 "cells": [
  {
   "cell_type": "code",
   "execution_count": 1,
   "metadata": {
    "collapsed": true
   },
   "outputs": [],
   "source": [
    "#Code from iamtrask.github.io\n",
    "import numpy as np"
   ]
  },
  {
   "cell_type": "code",
   "execution_count": 28,
   "metadata": {
    "collapsed": false
   },
   "outputs": [],
   "source": [
    "X = np.array([ [0,0,1],[0,1,1],[1,0,1],[1,1,1] ])\n",
    "y = np.array([[0,0,1,1]]).T"
   ]
  },
  {
   "cell_type": "code",
   "execution_count": 4,
   "metadata": {
    "collapsed": true
   },
   "outputs": [],
   "source": [
    "#sigmoid function as the activation func\n",
    "def nonlin(x, deriv = False):\n",
    "    if deriv:\n",
    "        return x*(1-x)\n",
    "    return 1/(1+np.exp(-x))"
   ]
  },
  {
   "cell_type": "code",
   "execution_count": 11,
   "metadata": {
    "collapsed": false
   },
   "outputs": [
    {
     "name": "stdout",
     "output_type": "stream",
     "text": [
      "[[-0.16595599]\n",
      " [ 0.44064899]\n",
      " [-0.99977125]]\n"
     ]
    }
   ],
   "source": [
    "np.random.seed(1)\n",
    "#initialize weights (synapse zero)\n",
    "syn0 = 2*np.random.random((3,1))-1\n",
    "print(syn0)"
   ]
  },
  {
   "cell_type": "code",
   "execution_count": 29,
   "metadata": {
    "collapsed": false
   },
   "outputs": [
    {
     "name": "stdout",
     "output_type": "stream",
     "text": [
      "[[ 10.04014407]\n",
      " [ -9.01094842]\n",
      " [ -5.60222331]]\n",
      "[[  3.67602023e-03]\n",
      " [  4.50418951e-07]\n",
      " [  9.88317024e-01]\n",
      " [  1.02216334e-02]]\n"
     ]
    }
   ],
   "source": [
    "for j in range(10000):\n",
    "    l0 = X\n",
    "    #multiply input data by weights and apply sigmoid func\n",
    "    l1 = nonlin(np.dot(l0, syn0))\n",
    "    l1_error = y-l1\n",
    "    l1_delta = l1_error*nonlin(l1, True)\n",
    "    syn0 += np.dot(l0.T, l1_delta)\n",
    "print(l1)\n",
    "    "
   ]
  }
 ],
 "metadata": {
  "anaconda-cloud": {},
  "kernelspec": {
   "display_name": "Python [default]",
   "language": "python",
   "name": "python3"
  },
  "language_info": {
   "codemirror_mode": {
    "name": "ipython",
    "version": 3
   },
   "file_extension": ".py",
   "mimetype": "text/x-python",
   "name": "python",
   "nbconvert_exporter": "python",
   "pygments_lexer": "ipython3",
   "version": "3.5.3"
  }
 },
 "nbformat": 4,
 "nbformat_minor": 1
}
