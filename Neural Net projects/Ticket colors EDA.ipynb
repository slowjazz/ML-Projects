{
 "cells": [
  {
   "cell_type": "code",
   "execution_count": 6,
   "metadata": {
    "collapsed": false
   },
   "outputs": [
    {
     "name": "stderr",
     "output_type": "stream",
     "text": [
      "Using TensorFlow backend.\n"
     ]
    }
   ],
   "source": [
    "%matplotlib inline\n",
    "import pandas as pd\n",
    "import numpy as np \n",
    "import matplotlib.pyplot as plt\n",
    "from keras.models import Sequential\n",
    "from keras.layers import Dense\n",
    "from keras.layers import LSTM"
   ]
  },
  {
   "cell_type": "code",
   "execution_count": 3,
   "metadata": {
    "collapsed": false
   },
   "outputs": [
    {
     "data": {
      "text/html": [
       "<div>\n",
       "<table border=\"1\" class=\"dataframe\">\n",
       "  <thead>\n",
       "    <tr style=\"text-align: right;\">\n",
       "      <th></th>\n",
       "      <th>Day</th>\n",
       "      <th>r11</th>\n",
       "      <th>r12</th>\n",
       "      <th>r13</th>\n",
       "      <th>r21</th>\n",
       "      <th>r22</th>\n",
       "      <th>r23</th>\n",
       "      <th>r31</th>\n",
       "      <th>r32</th>\n",
       "      <th>r33</th>\n",
       "      <th>r41</th>\n",
       "      <th>r42</th>\n",
       "      <th>r43</th>\n",
       "      <th>r1_avg</th>\n",
       "      <th>r2_avg</th>\n",
       "      <th>r3_avg</th>\n",
       "      <th>r4_avg</th>\n",
       "      <th>r5_avg</th>\n",
       "    </tr>\n",
       "  </thead>\n",
       "  <tbody>\n",
       "    <tr>\n",
       "      <th>0</th>\n",
       "      <td>4</td>\n",
       "      <td>255</td>\n",
       "      <td>216</td>\n",
       "      <td>3</td>\n",
       "      <td>102</td>\n",
       "      <td>239</td>\n",
       "      <td>228</td>\n",
       "      <td>176</td>\n",
       "      <td>226</td>\n",
       "      <td>79</td>\n",
       "      <td>79</td>\n",
       "      <td>55</td>\n",
       "      <td>174</td>\n",
       "      <td>158.00</td>\n",
       "      <td>189.67</td>\n",
       "      <td>160.33</td>\n",
       "      <td>102.67</td>\n",
       "      <td>150.89</td>\n",
       "    </tr>\n",
       "    <tr>\n",
       "      <th>1</th>\n",
       "      <td>5</td>\n",
       "      <td>255</td>\n",
       "      <td>53</td>\n",
       "      <td>53</td>\n",
       "      <td>140</td>\n",
       "      <td>106</td>\n",
       "      <td>189</td>\n",
       "      <td>39</td>\n",
       "      <td>125</td>\n",
       "      <td>239</td>\n",
       "      <td>122</td>\n",
       "      <td>174</td>\n",
       "      <td>138</td>\n",
       "      <td>120.33</td>\n",
       "      <td>145.00</td>\n",
       "      <td>134.33</td>\n",
       "      <td>144.67</td>\n",
       "      <td>141.33</td>\n",
       "    </tr>\n",
       "    <tr>\n",
       "      <th>2</th>\n",
       "      <td>6</td>\n",
       "      <td>3</td>\n",
       "      <td>104</td>\n",
       "      <td>255</td>\n",
       "      <td>131</td>\n",
       "      <td>70</td>\n",
       "      <td>238</td>\n",
       "      <td>31</td>\n",
       "      <td>57</td>\n",
       "      <td>104</td>\n",
       "      <td>144</td>\n",
       "      <td>127</td>\n",
       "      <td>157</td>\n",
       "      <td>120.67</td>\n",
       "      <td>146.33</td>\n",
       "      <td>64.00</td>\n",
       "      <td>142.67</td>\n",
       "      <td>117.67</td>\n",
       "    </tr>\n",
       "    <tr>\n",
       "      <th>3</th>\n",
       "      <td>7</td>\n",
       "      <td>180</td>\n",
       "      <td>104</td>\n",
       "      <td>180</td>\n",
       "      <td>248</td>\n",
       "      <td>78</td>\n",
       "      <td>53</td>\n",
       "      <td>83</td>\n",
       "      <td>240</td>\n",
       "      <td>81</td>\n",
       "      <td>138</td>\n",
       "      <td>69</td>\n",
       "      <td>229</td>\n",
       "      <td>154.67</td>\n",
       "      <td>126.33</td>\n",
       "      <td>134.67</td>\n",
       "      <td>145.33</td>\n",
       "      <td>135.44</td>\n",
       "    </tr>\n",
       "    <tr>\n",
       "      <th>4</th>\n",
       "      <td>8</td>\n",
       "      <td>53</td>\n",
       "      <td>154</td>\n",
       "      <td>53</td>\n",
       "      <td>239</td>\n",
       "      <td>181</td>\n",
       "      <td>170</td>\n",
       "      <td>204</td>\n",
       "      <td>99</td>\n",
       "      <td>27</td>\n",
       "      <td>117</td>\n",
       "      <td>216</td>\n",
       "      <td>192</td>\n",
       "      <td>86.67</td>\n",
       "      <td>196.67</td>\n",
       "      <td>110.00</td>\n",
       "      <td>175.00</td>\n",
       "      <td>160.56</td>\n",
       "    </tr>\n",
       "  </tbody>\n",
       "</table>\n",
       "</div>"
      ],
      "text/plain": [
       "   Day  r11  r12  r13  r21  r22  r23  r31  r32  r33  r41  r42  r43  r1_avg  \\\n",
       "0    4  255  216    3  102  239  228  176  226   79   79   55  174  158.00   \n",
       "1    5  255   53   53  140  106  189   39  125  239  122  174  138  120.33   \n",
       "2    6    3  104  255  131   70  238   31   57  104  144  127  157  120.67   \n",
       "3    7  180  104  180  248   78   53   83  240   81  138   69  229  154.67   \n",
       "4    8   53  154   53  239  181  170  204   99   27  117  216  192   86.67   \n",
       "\n",
       "   r2_avg  r3_avg  r4_avg  r5_avg  \n",
       "0  189.67  160.33  102.67  150.89  \n",
       "1  145.00  134.33  144.67  141.33  \n",
       "2  146.33   64.00  142.67  117.67  \n",
       "3  126.33  134.67  145.33  135.44  \n",
       "4  196.67  110.00  175.00  160.56  "
      ]
     },
     "execution_count": 3,
     "metadata": {},
     "output_type": "execute_result"
    }
   ],
   "source": [
    "data = pd.read_csv(\"color_data.csv\")\n",
    "data.head()"
   ]
  },
  {
   "cell_type": "code",
   "execution_count": 4,
   "metadata": {
    "collapsed": false
   },
   "outputs": [
    {
     "data": {
      "text/plain": [
       "<matplotlib.collections.PathCollection at 0x17ec6953358>"
      ]
     },
     "execution_count": 4,
     "metadata": {},
     "output_type": "execute_result"
    },
    {
     "data": {
      "image/png": "[encoded data removed]",
      "text/plain": [
       "<matplotlib.figure.Figure at 0x17ec6549710>"
      ]
     },
     "metadata": {},
     "output_type": "display_data"
    }
   ],
   "source": [
    "plt.scatter(data['Day'],data['r1_avg'])"
   ]
  },
  {
   "cell_type": "markdown",
   "metadata": {},
   "source": [
    "# Training an RNN on the r1 colors\n",
    "We attempt to train an RNN based the r1 color time-series with three features (RGB values). This procedure is modelled after this implementation of an RNN in keras: https://github.com/srikanthpagadala/neural-network-projects/tree/master/Time%20Series%20Prediction%20with%20LSTM%20Recurrent%20Neural%20Networks%20with%20Keras "
   ]
  },
  {
   "cell_type": "code",
   "execution_count": 26,
   "metadata": {
    "collapsed": true
   },
   "outputs": [],
   "source": [
    "# For now, use all data for training\n",
    "\n",
    "# convert an array of values into a dataset matrix\n",
    "def create_dataset(dataset, look_back=1):\n",
    "    dataX, dataY = [], []\n",
    "    for i in range(len(dataset)-look_back-1):\n",
    "        a = dataset[i:(i+look_back), :(len(dataset[0]))]\n",
    "        dataX.append(a)\n",
    "        dataY.append(dataset[i + look_back, :len(dataset[0])])\n",
    "    return np.array(dataX), np.array(dataY)"
   ]
  },
  {
   "cell_type": "code",
   "execution_count": 29,
   "metadata": {
    "collapsed": false
   },
   "outputs": [],
   "source": [
    "data_r1 = data[['r11','r12','r13']].values\n",
    "X, Y = create_dataset(data_r1)\n",
    "X\n"
   ]
  },
  {
   "cell_type": "code",
   "execution_count": null,
   "metadata": {
    "collapsed": true
   },
   "outputs": [],
   "source": [
    "model = Sequential()\n",
    "model.add(LSTM(4, input_shape=look_back))\n",
    "model.add(Dense(1))\n",
    "model.compile(loss='mean_squared_error', optimizer='adam')\n",
    "model.fit(trainX, trainY, nb_epoch=100, batch_size=1, verbose=0)"
   ]
  }
 ],
 "metadata": {
  "anaconda-cloud": {},
  "kernelspec": {
   "display_name": "Python [default]",
   "language": "python",
   "name": "python3"
  },
  "language_info": {
   "codemirror_mode": {
    "name": "ipython",
    "version": 3
   },
   "file_extension": ".py",
   "mimetype": "text/x-python",
   "name": "python",
   "nbconvert_exporter": "python",
   "pygments_lexer": "ipython3",
   "version": "3.5.3"
  }
 },
 "nbformat": 4,
 "nbformat_minor": 1
}
